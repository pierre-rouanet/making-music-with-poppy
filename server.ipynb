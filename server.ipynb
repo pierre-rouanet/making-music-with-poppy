{
 "metadata": {
  "name": "",
  "signature": "sha256:5964ed8ece580abcd47f04c50fb2575345a7cf890da6b0d16fe8bf91170ff7e7"
 },
 "nbformat": 3,
 "nbformat_minor": 0,
 "worksheets": [
  {
   "cells": [
    {
     "cell_type": "code",
     "collapsed": false,
     "input": [
      "import os\n",
      "import poppytools\n",
      "\n",
      "from pypot.robot import from_json\n",
      "\n",
      "config_path = os.path.join(os.path.dirname(poppytools.__file__), 'configuration', 'poppy_config.json')\n",
      "\n",
      "poppy = from_json(config_path)\n",
      "poppy.start_sync()"
     ],
     "language": "python",
     "metadata": {},
     "outputs": []
    },
    {
     "cell_type": "code",
     "collapsed": false,
     "input": [
      "for m in poppy.motors:\n",
      "    m.compliant = True"
     ],
     "language": "python",
     "metadata": {},
     "outputs": []
    },
    {
     "cell_type": "code",
     "collapsed": false,
     "input": [
      "from poppytools.primitive.basic import StandPosition, SitPosition\n",
      "\n",
      "stand = StandPosition(poppy)\n",
      "sit = SitPosition(poppy)"
     ],
     "language": "python",
     "metadata": {},
     "outputs": []
    },
    {
     "cell_type": "code",
     "collapsed": false,
     "input": [
      "from poppytools.primitive.interaction import SmartCompliance\n",
      "\n",
      "smart_compliance = SmartCompliance(poppy, poppy.motors)\n",
      "smart_compliance.start()"
     ],
     "language": "python",
     "metadata": {},
     "outputs": []
    },
    {
     "cell_type": "code",
     "collapsed": false,
     "input": [
      "from pypot.primitive.move import MoveRecorder, MovePlayer\n",
      "\n",
      "recorder = MoveRecorder(poppy, 50, ...)"
     ],
     "language": "python",
     "metadata": {},
     "outputs": []
    },
    {
     "cell_type": "code",
     "collapsed": false,
     "input": [
      "player = MovePlayer(poppy, recorder.move)"
     ],
     "language": "python",
     "metadata": {},
     "outputs": []
    },
    {
     "cell_type": "code",
     "collapsed": false,
     "input": [
      "from player import Sampler\n",
      "\n",
      "sampler = Sampler(['sounds/kicks/kick08_good.wav',\n",
      "                   ])"
     ],
     "language": "python",
     "metadata": {},
     "outputs": []
    },
    {
     "cell_type": "code",
     "collapsed": false,
     "input": [
      "from pypot.primitive import LoopPrimitive\n",
      "\n",
      "class PlayerPrimitive(LoopPrimitive):\n",
      "    def setup(self):\n",
      "        self.kicking = False\n",
      "        \n",
      "    def update(self):\n",
      "        p = self.robot.r_shoulder_y.present_position\n",
      "\n",
      "        if p > -25 and not kicking:\n",
      "            self.kicking = True\n",
      "            sampler.play(0)\n",
      "\n",
      "        if p < -50 and kicking:\n",
      "            self.kicking = False\n",
      "            \n",
      "player = PlayerPrimitive(poppy, 10)"
     ],
     "language": "python",
     "metadata": {},
     "outputs": []
    },
    {
     "cell_type": "code",
     "collapsed": false,
     "input": [
      "import zerorpc\n",
      "\n",
      "from pypot.server import RESTRobot\n",
      "\n",
      "rest_robot = RESTRobot(poppy)\n",
      "server = zerorpc.Server(rest_robot)\n",
      "server.bind('tcp://193.50.110.78:1234')\n",
      "server.run()"
     ],
     "language": "python",
     "metadata": {},
     "outputs": []
    }
   ],
   "metadata": {}
  }
 ]
}